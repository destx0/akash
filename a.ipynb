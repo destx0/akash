{
 "cells": [
  {
   "cell_type": "code",
   "execution_count": 4,
   "metadata": {},
   "outputs": [
    {
     "ename": "Exception",
     "evalue": "Error in file reading,mismatch in size of data-length",
     "output_type": "error",
     "traceback": [
      "\u001b[0;31m---------------------------------------------------------------------------\u001b[0m",
      "\u001b[0;31mException\u001b[0m                                 Traceback (most recent call last)",
      "Cell \u001b[0;32mIn[4], line 19\u001b[0m\n\u001b[1;32m     15\u001b[0m file_format \u001b[38;5;241m=\u001b[39m (\n\u001b[1;32m     16\u001b[0m     \u001b[38;5;124m\"\u001b[39m\u001b[38;5;124myearwise\u001b[39m\u001b[38;5;124m\"\u001b[39m  \u001b[38;5;66;03m# other option (None), which will assume deafult imd naming convention\u001b[39;00m\n\u001b[1;32m     17\u001b[0m )\n\u001b[1;32m     18\u001b[0m file_dir \u001b[38;5;241m=\u001b[39m \u001b[38;5;124m\"\u001b[39m\u001b[38;5;124m/home/wubu/space/cud/akash/imd_data\u001b[39m\u001b[38;5;124m\"\u001b[39m  \u001b[38;5;66;03m# this path should be same as mentioned in previous line\u001b[39;00m\n\u001b[0;32m---> 19\u001b[0m data \u001b[38;5;241m=\u001b[39m \u001b[43mimd\u001b[49m\u001b[38;5;241;43m.\u001b[39;49m\u001b[43mopen_data\u001b[49m\u001b[43m(\u001b[49m\n\u001b[1;32m     20\u001b[0m \u001b[43m    \u001b[49m\u001b[43mvariable\u001b[49m\u001b[43m,\u001b[49m\u001b[43m \u001b[49m\u001b[43mstart_yr\u001b[49m\u001b[43m,\u001b[49m\u001b[43m \u001b[49m\u001b[43mend_yr\u001b[49m\u001b[43m,\u001b[49m\u001b[43m \u001b[49m\u001b[38;5;124;43m\"\u001b[39;49m\u001b[38;5;124;43myearwise\u001b[39;49m\u001b[38;5;124;43m\"\u001b[39;49m\u001b[43m,\u001b[49m\u001b[43m \u001b[49m\u001b[43mfile_dir\u001b[49m\n\u001b[1;32m     21\u001b[0m \u001b[43m)\u001b[49m  \u001b[38;5;66;03m# this will open the data downloaded and saved in the location mentioned in previous line\u001b[39;00m\n\u001b[1;32m     22\u001b[0m \u001b[38;5;28;01mif\u001b[39;00m variable \u001b[38;5;241m==\u001b[39m \u001b[38;5;124m\"\u001b[39m\u001b[38;5;124mrain\u001b[39m\u001b[38;5;124m\"\u001b[39m:\n\u001b[1;32m     23\u001b[0m     grid_size \u001b[38;5;241m=\u001b[39m \u001b[38;5;241m0.25\u001b[39m  \u001b[38;5;66;03m# grid spacing in deg\u001b[39;00m\n",
      "File \u001b[0;32m~/miniconda3/envs/gpy12/lib/python3.12/site-packages/imdlib/core.py:695\u001b[0m, in \u001b[0;36mopen_data\u001b[0;34m(var_type, start_yr, end_yr, fn_format, file_dir)\u001b[0m\n\u001b[1;32m    687\u001b[0m \u001b[38;5;66;03m# Added for new url (dated:Oct 10, 2022)\u001b[39;00m\n\u001b[1;32m    688\u001b[0m \u001b[38;5;66;03m# Removing first element for rain for new url: https://imdpune.gov.in/lrfindex.php \u001b[39;00m\n\u001b[1;32m    689\u001b[0m \u001b[38;5;66;03m# Removing (commented out) as it was no longer needed to remove the first element anymore. (dated: March 31, 2023)\u001b[39;00m\n\u001b[0;32m   (...)\u001b[0m\n\u001b[1;32m    692\u001b[0m     \n\u001b[1;32m    693\u001b[0m \u001b[38;5;66;03m# Check consistency of data points\u001b[39;00m\n\u001b[1;32m    694\u001b[0m \u001b[38;5;28;01mif\u001b[39;00m \u001b[38;5;28mlen\u001b[39m(data) \u001b[38;5;241m!=\u001b[39m nlen:\n\u001b[0;32m--> 695\u001b[0m     \u001b[38;5;28;01mraise\u001b[39;00m \u001b[38;5;167;01mException\u001b[39;00m(\u001b[38;5;124m\"\u001b[39m\u001b[38;5;124mError in file reading,\u001b[39m\u001b[38;5;124m\"\u001b[39m\n\u001b[1;32m    696\u001b[0m                     \u001b[38;5;124m\"\u001b[39m\u001b[38;5;124mmismatch in size of data-length\u001b[39m\u001b[38;5;124m\"\u001b[39m)\n\u001b[1;32m    698\u001b[0m \u001b[38;5;66;03m# Reshape data into a shape of\u001b[39;00m\n\u001b[1;32m    699\u001b[0m \u001b[38;5;66;03m# (days_in_year, lon_size_class, lat_size_class)\u001b[39;00m\n\u001b[1;32m    700\u001b[0m data \u001b[38;5;241m=\u001b[39m np\u001b[38;5;241m.\u001b[39mtranspose(np\u001b[38;5;241m.\u001b[39mreshape(data, (days_in_year, lat_size_class,\n\u001b[1;32m    701\u001b[0m                                       lon_size_class), order\u001b[38;5;241m=\u001b[39m\u001b[38;5;124m'\u001b[39m\u001b[38;5;124mC\u001b[39m\u001b[38;5;124m'\u001b[39m), (\u001b[38;5;241m0\u001b[39m, \u001b[38;5;241m2\u001b[39m, \u001b[38;5;241m1\u001b[39m))\n",
      "\u001b[0;31mException\u001b[0m: Error in file reading,mismatch in size of data-length"
     ]
    }
   ],
   "source": [
    "import imdlib as imd\n",
    "\n",
    "\"\"\"\n",
    "# install imdlib python library\n",
    "# you should be connected to internet for downloading the data\n",
    "#-9999 value is for no data in saved csv file\n",
    "# This code will convert the IMD gridded data to csv file\n",
    "if you have data already downloaded then create folder named rain/tmax/tmin inside any folder and\n",
    "copy yearly data files in the respective folder and rename yearly data file as year name i.e 1951.GRD 1952.GRD etc and\n",
    "comment the line imd.get_data(variable,start_yr) and run the code it will convert the binary .GRD data into csv file\n",
    "\"\"\"\n",
    "start_yr = 2015  # give starting year from which you want to download/convert data: 1901 ownwards for rainfall, 1951 for tmax and tmin\n",
    "end_yr = 2016  # give ending year upto which you want to download/convert data\n",
    "variable = \"tmax\"  # give variable name (rain for rainfall at 0.25 deg, tmax or tmin for rainfall, min or max temperature at 1 deg resolution)\n",
    "file_format = (\n",
    "    \"yearwise\"  # other option (None), which will assume deafult imd naming convention\n",
    ")\n",
    "file_dir = \"/home/wubu/space/cud/akash/imd_data\"  # this path should be same as mentioned in previous line\n",
    "data = imd.open_data(\n",
    "    variable, start_yr, end_yr, \"yearwise\", file_dir\n",
    ")  # this will open the data downloaded and saved in the location mentioned in previous line\n",
    "if variable == \"rain\":\n",
    "    grid_size = 0.25  # grid spacing in deg\n",
    "    y_count = 129  # no of grids in y direction\n",
    "    x_count = 135  # no of grids in x direction\n",
    "    x = 66.5  # starting longitude taken from control file (.ctl)\n",
    "    y = 6.5  # starting latitude taken from control file (.ctl)\n",
    "elif variable == \"tmax\" or variable == \"tmin\":\n",
    "    grid_size = 1  # grid spacing in deg\n",
    "    y_count = 31  # no of grids in y direction\n",
    "    x_count = 31  # no of grids in x direction\n",
    "    x = 67.5  # starting longitude taken from control file (.ctl)\n",
    "    y = 7.5  # starting latitude taken from control file (.ctl)\n",
    "\n",
    "# print(grid_size,x_count, y_count, x, y)\n",
    "data\n",
    "data.shape\n",
    "np_array = data.data\n",
    "# print(np_array[0,0,0])\n",
    "# xr_objecct = data.get_xarray()\n",
    "# type(xr_objecct)\n",
    "# xr_objecct.mean('time').plot()\n",
    "years_no = (end_yr - start_yr) + 1\n",
    "# print(years_no)\n",
    "day = 0\n",
    "for yr in range(0, years_no):\n",
    "    f = open(\n",
    "        \"E:/imd_data/\" + str(start_yr + yr) + \"_\" + str(variable) + \".csv\", \"w\"\n",
    "    )  # just change the path where you want to save csv file\n",
    "    if ((start_yr + yr) % 4 == 0) and (\n",
    "        (start_yr + yr) % 100 != 0\n",
    "    ):  # check for leap year\n",
    "        days = 366\n",
    "        count = yr + days\n",
    "    elif (\n",
    "        ((start_yr + yr) % 4 == 0)\n",
    "        and ((start_yr + yr) % 100 == 0)\n",
    "        and ((start_yr + yr) % 400 == 0)\n",
    "    ):\n",
    "        days = 366\n",
    "        count = yr + days\n",
    "    else:\n",
    "        days = 365\n",
    "        count = yr + days\n",
    "\n",
    "    day = day + days\n",
    "\n",
    "    f.write(\"X,Y,\")\n",
    "    for d in range(0, days):\n",
    "        f.write(str(d + 1))\n",
    "        f.write(\",\")\n",
    "    f.write(\"\\n\")\n",
    "    # print(np_array[364,0,0])\n",
    "    for j in range(0, y_count):\n",
    "\n",
    "        for i in range(0, x_count):\n",
    "\n",
    "            f.write(str((i * grid_size) + x))\n",
    "            f.write(\",\")\n",
    "            f.write(str((j * grid_size) + y))\n",
    "            f.write(\",\")\n",
    "            time = 0\n",
    "            for k in range(day - days, day):\n",
    "\n",
    "                val = np_array[k, i, j]\n",
    "                if val == 99.9000015258789 or val == -999:\n",
    "                    f.write(str(-9999))\n",
    "                    f.write(\",\")\n",
    "                else:\n",
    "                    f.write(str(val))\n",
    "                    f.write(\",\")\n",
    "\n",
    "            f.write(\"\\n\")\n",
    "    print(\"File for \" + str(start_yr + yr) + \"_\" + str(variable) + \" is saved\")\n",
    "print(\"CSV conversion successful !\")"
   ]
  },
  {
   "cell_type": "code",
   "execution_count": null,
   "metadata": {},
   "outputs": [],
   "source": [
    "with open(\"/home/wubu/space/cud/akash/imd_data/2001.grd\", \"rb\") as file:\n",
    "    # Skip header if necessary (example skips first 100 bytes)\n",
    "    # file.read(100) # Uncomment and adjust based on your file's format\n",
    "\n",
    "    # Read the data into a numpy array\n",
    "    data = np.fromfile(file, dtype=data_type)"
   ]
  },
  {
   "cell_type": "code",
   "execution_count": 5,
   "metadata": {},
   "outputs": [
    {
     "name": "stdout",
     "output_type": "stream",
     "text": [
      "Downloading: rain for year 2010\n",
      "Downloading: rain for year 2011\n",
      "Downloading: rain for year 2012\n",
      "Downloading: rain for year 2013\n",
      "Downloading: rain for year 2014\n",
      "Downloading: rain for year 2015\n",
      "Downloading: rain for year 2016\n",
      "Downloading: rain for year 2017\n",
      "Downloading: rain for year 2018\n",
      "Download Successful !!!\n"
     ]
    }
   ],
   "source": [
    "import imdlib as imd\n",
    "\n",
    "start_yr = 2010\n",
    "end_yr = 2018\n",
    "variable = \"rain\"  # other options are ('tmin'/ 'tmax')\n",
    "data = imd.get_data(variable, start_yr, end_yr, fn_format=\"yearwise\")"
   ]
  },
  {
   "cell_type": "code",
   "execution_count": 6,
   "metadata": {},
   "outputs": [
    {
     "name": "stdout",
     "output_type": "stream",
     "text": [
      "<imdlib.core.IMD object at 0x7f7198f956d0>\n"
     ]
    }
   ],
   "source": [
    "print(data)"
   ]
  },
  {
   "cell_type": "code",
   "execution_count": 7,
   "metadata": {},
   "outputs": [
    {
     "name": "stdout",
     "output_type": "stream",
     "text": [
      "<xarray.Dataset> Size: 458MB\n",
      "Dimensions:  (time: 3287, lat: 129, lon: 135)\n",
      "Coordinates:\n",
      "  * lat      (lat) float64 1kB 6.5 6.75 7.0 7.25 7.5 ... 37.75 38.0 38.25 38.5\n",
      "  * lon      (lon) float64 1kB 66.5 66.75 67.0 67.25 ... 99.25 99.5 99.75 100.0\n",
      "  * time     (time) datetime64[ns] 26kB 2010-01-01 2010-01-02 ... 2018-12-31\n",
      "Data variables:\n",
      "    rain     (time, lat, lon) float64 458MB -999.0 -999.0 ... -999.0 -999.0\n",
      "Attributes:\n",
      "    Conventions:  CF-1.7\n",
      "    title:        IMD gridded data\n",
      "    source:       https://imdpune.gov.in/\n",
      "    history:      2024-03-30 05:31:58.334541 Python\n",
      "    references:   \n",
      "    comment:      \n",
      "    crs:          epsg:4326\n"
     ]
    }
   ],
   "source": [
    "ds = data.get_xarray()\n",
    "print(ds)"
   ]
  },
  {
   "cell_type": "code",
   "execution_count": 8,
   "metadata": {},
   "outputs": [
    {
     "data": {
      "text/plain": [
       "<matplotlib.collections.QuadMesh at 0x7f7196c49fa0>"
      ]
     },
     "execution_count": 8,
     "metadata": {},
     "output_type": "execute_result"
    },
    {
     "data": {
      "image/png": "[encoded data removed]",
      "text/plain": [
       "<Figure size 640x480 with 2 Axes>"
      ]
     },
     "metadata": {},
     "output_type": "display_data"
    }
   ],
   "source": [
    "ds = ds.where(ds[\"rain\"] != -999.0)  # Remove NaN values\n",
    "ds[\"rain\"].mean(\"time\").plot()"
   ]
  },
  {
   "cell_type": "code",
   "execution_count": 9,
   "metadata": {},
   "outputs": [
    {
     "name": "stdout",
     "output_type": "stream",
     "text": [
      "Downloading: rain for year 2010\n",
      "Downloading: rain for year 2011\n",
      "Downloading: rain for year 2012\n",
      "Downloading: rain for year 2013\n",
      "Downloading: rain for year 2014\n",
      "Downloading: rain for year 2015\n",
      "Downloading: rain for year 2016\n",
      "Downloading: rain for year 2017\n",
      "Downloading: rain for year 2018\n",
      "Download Successful !!!\n"
     ]
    },
    {
     "ename": "TypeError",
     "evalue": "'IMD' object is not subscriptable",
     "output_type": "error",
     "traceback": [
      "\u001b[0;31m---------------------------------------------------------------------------\u001b[0m",
      "\u001b[0;31mTypeError\u001b[0m                                 Traceback (most recent call last)",
      "Cell \u001b[0;32mIn[9], line 17\u001b[0m\n\u001b[1;32m     12\u001b[0m writer \u001b[38;5;241m=\u001b[39m pd\u001b[38;5;241m.\u001b[39mExcelWriter(\u001b[38;5;124m\"\u001b[39m\u001b[38;5;124mweather_data.xlsx\u001b[39m\u001b[38;5;124m\"\u001b[39m, engine\u001b[38;5;241m=\u001b[39m\u001b[38;5;124m\"\u001b[39m\u001b[38;5;124mxlsxwriter\u001b[39m\u001b[38;5;124m\"\u001b[39m)\n\u001b[1;32m     14\u001b[0m \u001b[38;5;28;01mfor\u001b[39;00m year \u001b[38;5;129;01min\u001b[39;00m \u001b[38;5;28mrange\u001b[39m(start_yr, end_yr \u001b[38;5;241m+\u001b[39m \u001b[38;5;241m1\u001b[39m):\n\u001b[1;32m     15\u001b[0m     \u001b[38;5;66;03m# Assuming 'data' is a dictionary-like object where each key is a year\u001b[39;00m\n\u001b[1;32m     16\u001b[0m     \u001b[38;5;66;03m# Convert the year's data to a pandas DataFrame\u001b[39;00m\n\u001b[0;32m---> 17\u001b[0m     df \u001b[38;5;241m=\u001b[39m pd\u001b[38;5;241m.\u001b[39mDataFrame(\u001b[43mdata\u001b[49m\u001b[43m[\u001b[49m\u001b[43myear\u001b[49m\u001b[43m]\u001b[49m)\n\u001b[1;32m     19\u001b[0m     \u001b[38;5;66;03m# Write the DataFrame to a separate sheet named after the year\u001b[39;00m\n\u001b[1;32m     20\u001b[0m     df\u001b[38;5;241m.\u001b[39mto_excel(writer, sheet_name\u001b[38;5;241m=\u001b[39m\u001b[38;5;28mstr\u001b[39m(year))\n",
      "\u001b[0;31mTypeError\u001b[0m: 'IMD' object is not subscriptable"
     ]
    }
   ],
   "source": [
    "import imdlib as imd\n",
    "import pandas as pd\n",
    "\n",
    "start_yr = 2010\n",
    "end_yr = 2018\n",
    "variable = \"rain\"  # Options: 'rain', 'tmin', 'tmax'\n",
    "\n",
    "# Fetch the data\n",
    "data = imd.get_data(variable, start_yr, end_yr, fn_format=\"yearwise\")\n",
    "\n",
    "# Create a new Excel writer object\n",
    "writer = pd.ExcelWriter(\"weather_data.xlsx\", engine=\"xlsxwriter\")\n",
    "\n",
    "for year in range(start_yr, end_yr + 1):\n",
    "    # Assuming 'data' is a dictionary-like object where each key is a year\n",
    "    # Convert the year's data to a pandas DataFrame\n",
    "    df = pd.DataFrame(data[year])\n",
    "\n",
    "    # Write the DataFrame to a separate sheet named after the year\n",
    "    df.to_excel(writer, sheet_name=str(year))\n",
    "\n",
    "# Save and close the Excel workbook\n",
    "writer.save()"
   ]
  },
  {
   "cell_type": "code",
   "execution_count": 11,
   "metadata": {},
   "outputs": [],
   "source": [
    "lat = 20.03\n",
    "lon = 77.23\n",
    "data.to_csv('test.csv', lat, lon, file_dir)"
   ]
  },
  {
   "cell_type": "code",
   "execution_count": null,
   "metadata": {},
   "outputs": [],
   "source": []
  }
 ],
 "metadata": {
  "kernelspec": {
   "display_name": "gpy12",
   "language": "python",
   "name": "python3"
  },
  "language_info": {
   "codemirror_mode": {
    "name": "ipython",
    "version": 3
   },
   "file_extension": ".py",
   "mimetype": "text/x-python",
   "name": "python",
   "nbconvert_exporter": "python",
   "pygments_lexer": "ipython3",
   "version": "3.12.2"
  }
 },
 "nbformat": 4,
 "nbformat_minor": 2
}
